{
  "nbformat": 4,
  "nbformat_minor": 0,
  "metadata": {
    "colab": {
      "name": "teste.ipynb",
      "provenance": [],
      "collapsed_sections": [],
      "authorship_tag": "ABX9TyMklMPOKxd3lbjHFZ+2JTTH",
      "include_colab_link": true
    },
    "kernelspec": {
      "name": "python3",
      "display_name": "Python 3"
    },
    "language_info": {
      "name": "python"
    }
  },
  "cells": [
    {
      "cell_type": "markdown",
      "metadata": {
        "id": "view-in-github",
        "colab_type": "text"
      },
      "source": [
        "<a href=\"https://colab.research.google.com/github/Mariamacedo-prog/AdoCao-AdoCats/blob/main/estudoPython.ipynb\" target=\"_parent\"><img src=\"https://colab.research.google.com/assets/colab-badge.svg\" alt=\"Open In Colab\"/></a>"
      ]
    },
    {
      "cell_type": "markdown",
      "metadata": {
        "id": "x2lyJEdIpXrj"
      },
      "source": [
        "print(f'O resultado de {n1} dividivo por {n2} é {n1/n2}');"
      ]
    },
    {
      "cell_type": "code",
      "metadata": {
        "id": "NBb-e66upqR-"
      },
      "source": [
        "import math\n",
        "\n",
        "math.sqrt(81)"
      ],
      "execution_count": null,
      "outputs": []
    },
    {
      "cell_type": "code",
      "metadata": {
        "id": "WaR0Fn9UsNcS"
      },
      "source": [
        "tempo = 8\n",
        "velocidade = 90"
      ],
      "execution_count": null,
      "outputs": []
    },
    {
      "cell_type": "code",
      "metadata": {
        "colab": {
          "base_uri": "https://localhost:8080/"
        },
        "id": "SdZnrJgFsVbk",
        "outputId": "9a37ecd6-6578-4606-8268-9e2d8b9e871a"
      },
      "source": [
        "distancia = tempo * velocidade\n",
        "print(distancia)"
      ],
      "execution_count": null,
      "outputs": [
        {
          "output_type": "stream",
          "text": [
            "720\n"
          ],
          "name": "stdout"
        }
      ]
    },
    {
      "cell_type": "code",
      "metadata": {
        "colab": {
          "base_uri": "https://localhost:8080/"
        },
        "id": "zb8nXgqnshQW",
        "outputId": "84005867-a83a-4e91-cff3-c2d3e2dcf2d9"
      },
      "source": [
        "litros = distancia / 12\n",
        "print(litros)"
      ],
      "execution_count": null,
      "outputs": [
        {
          "output_type": "stream",
          "text": [
            "60.0\n"
          ],
          "name": "stdout"
        }
      ]
    },
    {
      "cell_type": "code",
      "metadata": {
        "colab": {
          "base_uri": "https://localhost:8080/"
        },
        "id": "t8oG6kf-tRCM",
        "outputId": "1033823b-bc52-4892-a61b-0fa632f99d5e"
      },
      "source": [
        "n3 = int(input('digite seu numero: '))\n",
        "n4 = int(input('digite seu numero: '))"
      ],
      "execution_count": null,
      "outputs": [
        {
          "output_type": "stream",
          "text": [
            "digite seu numero: 2\n",
            "digite seu numero: 4\n"
          ],
          "name": "stdout"
        }
      ]
    },
    {
      "cell_type": "code",
      "metadata": {
        "colab": {
          "base_uri": "https://localhost:8080/"
        },
        "id": "7C5xGFYYtvq8",
        "outputId": "de7c1572-cc36-4985-c822-40c9d248c840"
      },
      "source": [
        "adicao = n3+n4\n",
        "subtraçao  = n3-n4\n",
        "divisao  = n3/n4\n",
        "multiplicacao  = n3*n4\n",
        "\n",
        "print(\"adição: \", adicao)\n",
        "print(\"subtraçao: \", subtraçao)\n",
        "print(\"divisao: \", round(divisao, 2))\n",
        "print(\"multiplicacao: \", multiplicacao)"
      ],
      "execution_count": null,
      "outputs": [
        {
          "output_type": "stream",
          "text": [
            "adição:  6\n",
            "subtraçao:  -2\n",
            "divisao:  0.5\n",
            "multiplicacao:  8\n"
          ],
          "name": "stdout"
        }
      ]
    },
    {
      "cell_type": "code",
      "metadata": {
        "colab": {
          "base_uri": "https://localhost:8080/"
        },
        "id": "yvJ0WMFKuSrV",
        "outputId": "d8139d4c-b349-4559-9747-acf504894640"
      },
      "source": [
        "tempo = float(input('digite seu tempo: '))\n",
        "velocidade = float(input('digite sua velocidade: '))"
      ],
      "execution_count": null,
      "outputs": [
        {
          "output_type": "stream",
          "text": [
            "digite seu tempo: 2\n",
            "digite sua velocidade: 80\n"
          ],
          "name": "stdout"
        }
      ]
    },
    {
      "cell_type": "code",
      "metadata": {
        "colab": {
          "base_uri": "https://localhost:8080/"
        },
        "id": "3UI1SMxxuYzU",
        "outputId": "0cc32452-b50a-4387-c75c-7a600593d624"
      },
      "source": [
        "distancia = tempo * velocidade\n",
        "litros = distancia / 12\n",
        "\n",
        "print(\"Seu tempo médio foi de: \", tempo)\n",
        "print(\"Sua velocidade foi de: \", velocidade)\n",
        "print(\"Distacia média: \", distancia)\n",
        "print(\"Litros gastos \", round(litros, 1))"
      ],
      "execution_count": null,
      "outputs": [
        {
          "output_type": "stream",
          "text": [
            "Seu tempo médio foi de:  2.0\n",
            "Sua velocidade foi de:  80.0\n",
            "Distacia média:  160.0\n",
            "Litros gastos  13.3\n"
          ],
          "name": "stdout"
        }
      ]
    },
    {
      "cell_type": "code",
      "metadata": {
        "colab": {
          "base_uri": "https://localhost:8080/"
        },
        "id": "rO5HNgibzIVc",
        "outputId": "59cd1c01-704b-4d68-88c1-f5f35a54bb5d"
      },
      "source": [
        "5!=3"
      ],
      "execution_count": null,
      "outputs": [
        {
          "output_type": "execute_result",
          "data": {
            "text/plain": [
              "True"
            ]
          },
          "metadata": {
            "tags": []
          },
          "execution_count": 45
        }
      ]
    },
    {
      "cell_type": "code",
      "metadata": {
        "colab": {
          "base_uri": "https://localhost:8080/"
        },
        "id": "L6mgGvgBzYPS",
        "outputId": "ee2a3fef-5ae8-486e-968d-e60c3604fb0e"
      },
      "source": [
        "if 5 > 3:\n",
        "  print(\"5 é maior\")\n",
        "else:\n",
        "  print(\"5 não é maior\")"
      ],
      "execution_count": null,
      "outputs": [
        {
          "output_type": "stream",
          "text": [
            "5 é maior\n"
          ],
          "name": "stdout"
        }
      ]
    },
    {
      "cell_type": "code",
      "metadata": {
        "colab": {
          "base_uri": "https://localhost:8080/"
        },
        "id": "EXrjadQU0-V8",
        "outputId": "22482944-3e0c-4e1f-9bc0-0cf9033e318d"
      },
      "source": [
        "n = int(input('digite o número'))\n",
        "\n",
        "if n == 4: \n",
        "  print('n é igual a 4')\n",
        "else:\n",
        "  if n == 3: \n",
        "    print('n igual a 3')\n",
        "  else:\n",
        "   print('n não é 3 nem 4')"
      ],
      "execution_count": null,
      "outputs": [
        {
          "output_type": "stream",
          "text": [
            "digite o número10\n",
            "n não é 3 nem 4\n"
          ],
          "name": "stdout"
        }
      ]
    },
    {
      "cell_type": "code",
      "metadata": {
        "colab": {
          "base_uri": "https://localhost:8080/"
        },
        "id": "FL3Bumcm2i6Y",
        "outputId": "89669562-f891-4790-de4a-4cd1fc8402e5"
      },
      "source": [
        "idade = int(input('digite usa idade: '))\n",
        "\n",
        "\n",
        "if (idade <= 12 and idade >= 0): \n",
        "  print('Criança')\n",
        "else:\n",
        "  if (idade <= 18 and idade > 12): \n",
        "    print('Adolescente')\n",
        "  else:\n",
        "    if (idade > 18): \n",
        "     print('Adulto')\n",
        "    else:\n",
        "      print('Idade invalida')"
      ],
      "execution_count": null,
      "outputs": [
        {
          "output_type": "stream",
          "text": [
            "digite usa idade: -18\n",
            "Idade invalida\n"
          ],
          "name": "stdout"
        }
      ]
    },
    {
      "cell_type": "code",
      "metadata": {
        "colab": {
          "base_uri": "https://localhost:8080/"
        },
        "id": "-zd1eF_Y4ws8",
        "outputId": "711e8d64-a6ad-47db-e50f-e2b1276435a5"
      },
      "source": [
        "M1 = float(input('digite a média do M1: '))\n",
        "M2 = float(input('digite a média do M1: '))\n",
        "M3 = float(input('digite a média do M1: '))\n",
        "\n",
        "soma = M1 + M2 + M3\n",
        "media = soma / 3\n",
        "media_arr = round(media, 1)\n",
        "\n",
        "print(media_arr)"
      ],
      "execution_count": null,
      "outputs": [
        {
          "output_type": "stream",
          "text": [
            "digite a média do M1: 6.\n",
            "digite a média do M1: 6\n",
            "digite a média do M1: 6\n",
            "6.0\n"
          ],
          "name": "stdout"
        }
      ]
    },
    {
      "cell_type": "code",
      "metadata": {
        "colab": {
          "base_uri": "https://localhost:8080/"
        },
        "id": "gW-8dZ0n6az5",
        "outputId": "15d8bf25-862c-4469-83c4-9d60a62330b1"
      },
      "source": [
        "if (media_arr >= 0.0 and media_arr <= 4.0):\n",
        "  print('Reprovado')\n",
        "else:\n",
        "  if (media_arr <= 6.0):\n",
        "    print('o aluno pegou exame')\n",
        "    exame = float(input('digite a nota do exame: '))\n",
        "    exame_arr = round(exame, 1)\n",
        "    if ( exame_arr >= 6.0):\n",
        "      print('está aprovado')\n",
        "    else:\n",
        "      print('Reprovado')\n",
        "  else:\n",
        "    if (media_arr >= 6.0):\n",
        "      print('está aprovado')"
      ],
      "execution_count": null,
      "outputs": [
        {
          "output_type": "stream",
          "text": [
            "o aluno pegou exame\n",
            "digite a nota do exame: 5\n",
            "Reprovado\n"
          ],
          "name": "stdout"
        }
      ]
    },
    {
      "cell_type": "code",
      "metadata": {
        "colab": {
          "base_uri": "https://localhost:8080/"
        },
        "id": "wxpSHmoEW88F",
        "outputId": "92a7a440-233b-41be-ae00-ea6f221e7402"
      },
      "source": [
        "for numero in range(1 , 6):\n",
        "  print(numero)"
      ],
      "execution_count": null,
      "outputs": [
        {
          "output_type": "stream",
          "text": [
            "1\n",
            "2\n",
            "3\n",
            "4\n",
            "5\n"
          ],
          "name": "stdout"
        }
      ]
    },
    {
      "cell_type": "code",
      "metadata": {
        "colab": {
          "base_uri": "https://localhost:8080/"
        },
        "id": "dcR51x3_ZIyD",
        "outputId": "165dd1cc-3693-4af2-8c9f-bbb2bbfb1cbf"
      },
      "source": [
        "for numero in range(5, 0, -1):\n",
        "  print(numero)"
      ],
      "execution_count": null,
      "outputs": [
        {
          "output_type": "stream",
          "text": [
            "5\n",
            "4\n",
            "3\n",
            "2\n",
            "1\n"
          ],
          "name": "stdout"
        }
      ]
    },
    {
      "cell_type": "code",
      "metadata": {
        "colab": {
          "base_uri": "https://localhost:8080/"
        },
        "id": "hy3KiXPAZkMw",
        "outputId": "6925b1ca-9b66-40d5-9e49-4805a5013b02"
      },
      "source": [
        "soma =0\n",
        "\n",
        "for numero in range(1,6):\n",
        "  soma = soma + numero\n",
        "print(soma)"
      ],
      "execution_count": null,
      "outputs": [
        {
          "output_type": "stream",
          "text": [
            "15\n"
          ],
          "name": "stdout"
        }
      ]
    },
    {
      "cell_type": "code",
      "metadata": {
        "colab": {
          "base_uri": "https://localhost:8080/"
        },
        "id": "A7hOiOfLaa1q",
        "outputId": "c5b9ffa5-8e5e-49c1-f3b3-d2bc248dcb7e"
      },
      "source": [
        "palavra = 'sorvete'\n",
        "\n",
        "for letra in palavra:\n",
        "  print(letra)"
      ],
      "execution_count": null,
      "outputs": [
        {
          "output_type": "stream",
          "text": [
            "s\n",
            "o\n",
            "r\n",
            "v\n",
            "e\n",
            "t\n",
            "e\n"
          ],
          "name": "stdout"
        }
      ]
    },
    {
      "cell_type": "code",
      "metadata": {
        "colab": {
          "base_uri": "https://localhost:8080/"
        },
        "id": "YKMGuZq-cIfG",
        "outputId": "0e38659a-cfa2-4949-fdec-965d0a426b0a"
      },
      "source": [
        "numero = 1\n",
        "\n",
        "while numero < 6:\n",
        "  print(numero)\n",
        "  numero += 1\n",
        "print(numero)"
      ],
      "execution_count": null,
      "outputs": [
        {
          "output_type": "stream",
          "text": [
            "1\n",
            "2\n",
            "3\n",
            "4\n",
            "5\n",
            "6\n"
          ],
          "name": "stdout"
        }
      ]
    },
    {
      "cell_type": "code",
      "metadata": {
        "colab": {
          "base_uri": "https://localhost:8080/"
        },
        "id": "kjWlCJogc7lx",
        "outputId": "06d10d89-3db8-41d6-ac73-d8d2001c623a"
      },
      "source": [
        "numero = 5\n",
        "\n",
        "while numero > 0:\n",
        "  print(numero)\n",
        "  numero -= 1\n",
        "  "
      ],
      "execution_count": null,
      "outputs": [
        {
          "output_type": "stream",
          "text": [
            "5\n",
            "4\n",
            "3\n",
            "2\n",
            "1\n"
          ],
          "name": "stdout"
        }
      ]
    },
    {
      "cell_type": "code",
      "metadata": {
        "colab": {
          "base_uri": "https://localhost:8080/"
        },
        "id": "_bAUEonCdPBa",
        "outputId": "63711e47-0b17-47d3-ff9f-f2155d7620f1"
      },
      "source": [
        "soma = 0\n",
        "numero = 1\n",
        "while numero < 6:\n",
        "  soma += numero\n",
        "  numero +=1\n",
        "  print(soma)\n"
      ],
      "execution_count": null,
      "outputs": [
        {
          "output_type": "stream",
          "text": [
            "1\n",
            "3\n",
            "6\n",
            "10\n",
            "15\n"
          ],
          "name": "stdout"
        }
      ]
    },
    {
      "cell_type": "code",
      "metadata": {
        "colab": {
          "base_uri": "https://localhost:8080/"
        },
        "id": "O8-E0p2kd1Ig",
        "outputId": "ec73eee2-05b7-44b0-df98-9e372a193567"
      },
      "source": [
        "numero = -1\n",
        "\n",
        "while numero < 1 or numero > 10:\n",
        "  numero = int(input('digite um numero de 1 até 10: 1'))"
      ],
      "execution_count": null,
      "outputs": [
        {
          "output_type": "stream",
          "text": [
            "digite um numero de 1 até 10: -1\n",
            "digite um numero de 1 até 10: -3\n",
            "digite um numero de 1 até 10: 0\n",
            "digite um numero de 1 até 10: 21\n",
            "digite um numero de 1 até 10: 3\n"
          ],
          "name": "stdout"
        }
      ]
    },
    {
      "cell_type": "code",
      "metadata": {
        "colab": {
          "base_uri": "https://localhost:8080/"
        },
        "id": "Jp0opxNMfKyo",
        "outputId": "583b6b3e-bb41-4ba9-98bb-89c4ab0261aa"
      },
      "source": [
        "soma = nota = media = 0\n",
        "\n",
        "for _ in range(1, 6):\n",
        "  nota = float(input('digite a nota: '))\n",
        "  soma += nota\n",
        "  print(soma)\n",
        "\n",
        "media = soma / 5\n",
        "print('sua média é de: ', media)\n",
        "\n",
        "numero = 0\n",
        "\n",
        "while numero < 10:\n",
        "  numero +=1\n",
        "  print(numero * 3)\n"
      ],
      "execution_count": null,
      "outputs": [
        {
          "output_type": "stream",
          "text": [
            "digite a nota: 5\n",
            "5.0\n",
            "digite a nota: 6\n",
            "11.0\n",
            "digite a nota: 7\n",
            "18.0\n",
            "digite a nota: 8\n",
            "26.0\n",
            "digite a nota: 5\n",
            "31.0\n",
            "sua média é de:  6.2\n",
            "3\n",
            "6\n",
            "9\n",
            "12\n",
            "15\n",
            "18\n",
            "21\n",
            "24\n",
            "27\n",
            "30\n"
          ],
          "name": "stdout"
        }
      ]
    },
    {
      "cell_type": "markdown",
      "metadata": {
        "id": "Mmn3j4b_fKpL"
      },
      "source": [
        ""
      ]
    },
    {
      "cell_type": "markdown",
      "metadata": {
        "id": "f5HTe-vHfKdW"
      },
      "source": [
        ""
      ]
    },
    {
      "cell_type": "code",
      "metadata": {
        "colab": {
          "base_uri": "https://localhost:8080/"
        },
        "id": "jEtiOCGIt9n9",
        "outputId": "d10c85ce-4e7f-4420-fcf4-995c57e475a5"
      },
      "source": [
        "l1 = ['gato', 'cachorro', 'homem']\n",
        "\n",
        "l1.append('gorila')\n",
        "\n",
        "\n",
        "print(l1)\n",
        "\n",
        "l1.remove('gorila')\n",
        "\n",
        "print(l1)"
      ],
      "execution_count": null,
      "outputs": [
        {
          "output_type": "stream",
          "text": [
            "['gato', 'cachorro', 'homem', 'gorila']\n",
            "['gato', 'cachorro', 'homem']\n"
          ],
          "name": "stdout"
        }
      ]
    },
    {
      "cell_type": "code",
      "metadata": {
        "colab": {
          "base_uri": "https://localhost:8080/"
        },
        "id": "0Sg68iALxRQk",
        "outputId": "8bc3bf15-5e89-4676-becf-6ed05fbc3023"
      },
      "source": [
        "conj = ('gato', 'cachorro', 'homem gato', 'cachorro', 'homem')\n",
        "\n",
        "print(set(conj))"
      ],
      "execution_count": null,
      "outputs": [
        {
          "output_type": "stream",
          "text": [
            "{'gato', 'homem', 'homem gato', 'cachorro'}\n"
          ],
          "name": "stdout"
        }
      ]
    },
    {
      "cell_type": "code",
      "metadata": {
        "colab": {
          "base_uri": "https://localhost:8080/"
        },
        "id": "gbT7hWWPy90L",
        "outputId": "300fd541-14b5-4088-b6c8-b7d189068120"
      },
      "source": [
        "c1 = {1,2,3,4,5}\n",
        "c2 = {3,4,5,6,7}\n",
        "\n",
        "c3 = c1.intersection(c2)\n",
        "\n",
        "print(c3)\n",
        "\n",
        "c2.difference(c1)\n",
        "c1.difference(c2)"
      ],
      "execution_count": null,
      "outputs": [
        {
          "output_type": "stream",
          "text": [
            "{3, 4, 5}\n"
          ],
          "name": "stdout"
        },
        {
          "output_type": "execute_result",
          "data": {
            "text/plain": [
              "{1, 2}"
            ]
          },
          "metadata": {
            "tags": []
          },
          "execution_count": 14
        }
      ]
    },
    {
      "cell_type": "code",
      "metadata": {
        "id": "Tim81dJI7Inp"
      },
      "source": [
        "import numpy as np\n",
        "\n",
        "\n"
      ],
      "execution_count": null,
      "outputs": []
    },
    {
      "cell_type": "code",
      "metadata": {
        "colab": {
          "base_uri": "https://localhost:8080/"
        },
        "id": "xTseilhr7V9a",
        "outputId": "21aaee3a-3a04-47dd-b3e4-ad2d6741700b"
      },
      "source": [
        "matriz = np.array([[1,2,3], [4,5,6]])\n",
        "\n",
        "matriz"
      ],
      "execution_count": null,
      "outputs": [
        {
          "output_type": "execute_result",
          "data": {
            "text/plain": [
              "array([[1, 2, 3],\n",
              "       [4, 5, 6]])"
            ]
          },
          "metadata": {
            "tags": []
          },
          "execution_count": 16
        }
      ]
    },
    {
      "cell_type": "code",
      "metadata": {
        "colab": {
          "base_uri": "https://localhost:8080/"
        },
        "id": "pVVxjYfe763C",
        "outputId": "36895aa6-a6ee-4ac1-eb8c-1a364bdf1894"
      },
      "source": [
        "matriz.shape\n",
        "\n",
        "matriz[0]\n",
        "\n",
        "matriz[1]\n",
        "\n"
      ],
      "execution_count": null,
      "outputs": [
        {
          "output_type": "execute_result",
          "data": {
            "text/plain": [
              "array([4, 5, 6])"
            ]
          },
          "metadata": {
            "tags": []
          },
          "execution_count": 20
        }
      ]
    },
    {
      "cell_type": "code",
      "metadata": {
        "id": "brbLtrh28Xet",
        "colab": {
          "base_uri": "https://localhost:8080/"
        },
        "outputId": "70084eea-313e-4a63-82a7-b0cb66949af8"
      },
      "source": [
        "matriz[1][2]\n"
      ],
      "execution_count": 22,
      "outputs": [
        {
          "output_type": "execute_result",
          "data": {
            "text/plain": [
              "6"
            ]
          },
          "metadata": {
            "tags": []
          },
          "execution_count": 22
        }
      ]
    },
    {
      "cell_type": "code",
      "metadata": {
        "colab": {
          "base_uri": "https://localhost:8080/"
        },
        "id": "ggoeLPip8p8r",
        "outputId": "0129fe51-9bbe-41da-ea05-38a35d82c0ad"
      },
      "source": [
        "for i in range(matriz.shape[0]):\n",
        "  print(matriz[i])\n",
        "  for j in range(matriz.shape[1]):\n",
        "    print(matriz[i][j])"
      ],
      "execution_count": 24,
      "outputs": [
        {
          "output_type": "stream",
          "text": [
            "[1 2 3]\n",
            "1\n",
            "2\n",
            "3\n",
            "[4 5 6]\n",
            "4\n",
            "5\n",
            "6\n"
          ],
          "name": "stdout"
        }
      ]
    },
    {
      "cell_type": "code",
      "metadata": {
        "colab": {
          "base_uri": "https://localhost:8080/"
        },
        "id": "_iG-l43i9qLd",
        "outputId": "7d38514e-b63a-41d9-b8c6-a0e1117200c1"
      },
      "source": [
        "lista = []\n",
        "\n",
        "numero = 0\n",
        "soma = 0\n",
        "\n",
        "while numero < 5: \n",
        "   n = int(input('digite um numero inteiro: '))\n",
        "\n",
        "   lista.append(n)\n",
        "   numero += 1\n",
        "   print(lista)\n",
        "\n",
        "\n",
        "for i in lista:\n",
        "  soma = soma + i\n",
        "print(soma)"
      ],
      "execution_count": 32,
      "outputs": [
        {
          "output_type": "stream",
          "text": [
            "digite um numero inteiro: 123\n",
            "[123]\n",
            "digite um numero inteiro: 666\n",
            "[123, 666]\n",
            "digite um numero inteiro: 212\n",
            "[123, 666, 212]\n",
            "digite um numero inteiro: 3234\n",
            "[123, 666, 212, 3234]\n",
            "digite um numero inteiro: 544\n",
            "[123, 666, 212, 3234, 544]\n",
            "4779\n"
          ],
          "name": "stdout"
        }
      ]
    },
    {
      "cell_type": "code",
      "metadata": {
        "colab": {
          "base_uri": "https://localhost:8080/"
        },
        "id": "NlcO6vtNAS1J",
        "outputId": "33a232da-12e2-4a3f-a374-a23fc93936c8"
      },
      "source": [
        "num = 0\n",
        "\n",
        "dic = {}\n",
        "\n",
        "while num < 3:\n",
        "  nome = (input('digite o nome: '))\n",
        "  nota = float(input('digite a nota: '))\n",
        "\n",
        "  dic[nome] = nota\n",
        "  num = num + 1\n",
        "  print(f'Aluno(a) {nome} teve nota {nota}')\n",
        "\n",
        "print(dic)\n",
        "\n"
      ],
      "execution_count": 39,
      "outputs": [
        {
          "output_type": "stream",
          "text": [
            "digite o nome: Maria\n",
            "digite a nota: 6.5\n",
            "Aluno(a) Maria teve nota 6.5\n",
            "digite o nome: João \n",
            "digite a nota: 7.5\n",
            "Aluno(a) João  teve nota 7.5\n",
            "digite o nome: Steffany\n",
            "digite a nota: 3.5\n",
            "Aluno(a) Steffany teve nota 3.5\n",
            "{'Maria': 6.5, 'João ': 7.5, 'Steffany': 3.5}\n"
          ],
          "name": "stdout"
        }
      ]
    },
    {
      "cell_type": "code",
      "metadata": {
        "colab": {
          "base_uri": "https://localhost:8080/"
        },
        "id": "0IrEMNRdC9Li",
        "outputId": "a776059c-5ef0-4938-e4e3-f54b3f2241d0"
      },
      "source": [
        "notas = dic.values()\n",
        "\n",
        "soma = 0 \n",
        "\n",
        "for i in notas:\n",
        "  soma= soma + i\n",
        "  print(soma)\n"
      ],
      "execution_count": 42,
      "outputs": [
        {
          "output_type": "stream",
          "text": [
            "6.5\n",
            "14.0\n",
            "17.5\n"
          ],
          "name": "stdout"
        }
      ]
    },
    {
      "cell_type": "code",
      "metadata": {
        "colab": {
          "base_uri": "https://localhost:8080/"
        },
        "id": "FyZLLh_5FSmn",
        "outputId": "a99f44d9-d493-464d-f3be-480718e5c925"
      },
      "source": [
        "media = soma / 3\n",
        "\n",
        "print(f' A média da sala é {round(media, 1)}')"
      ],
      "execution_count": 48,
      "outputs": [
        {
          "output_type": "stream",
          "text": [
            " A média da sala é 5.8\n"
          ],
          "name": "stdout"
        }
      ]
    },
    {
      "cell_type": "code",
      "metadata": {
        "id": "IOT14WWVFhwT"
      },
      "source": [
        ""
      ],
      "execution_count": null,
      "outputs": []
    },
    {
      "cell_type": "code",
      "metadata": {
        "colab": {
          "base_uri": "https://localhost:8080/"
        },
        "id": "hHdcQtqBEuRY",
        "outputId": "845401e2-ed6f-4355-de4a-ad9064893c88"
      },
      "source": [
        "matriz = np.array([[3, 4, 1],\n",
        "                   [3, 1, 5]])\n",
        "\n",
        "somaEle = 0\n",
        "for i in range(matriz.shape[0]):\n",
        "  for j in range(matriz.shape[1]):\n",
        "    elemento = matriz[i][j]\n",
        "\n",
        "    somaEle += elemento\n",
        "print(somaEle)\n"
      ],
      "execution_count": 51,
      "outputs": [
        {
          "output_type": "stream",
          "text": [
            "17\n"
          ],
          "name": "stdout"
        }
      ]
    },
    {
      "cell_type": "code",
      "metadata": {
        "id": "MH-r6t4lLYs5"
      },
      "source": [
        "def mensagem():\n",
        "  print('função criada')"
      ],
      "execution_count": 52,
      "outputs": []
    },
    {
      "cell_type": "code",
      "metadata": {
        "colab": {
          "base_uri": "https://localhost:8080/"
        },
        "id": "Zxg1dONFLfAH",
        "outputId": "02bd2a7d-8440-4bf9-8530-250ac37ff7c9"
      },
      "source": [
        "mensagem()"
      ],
      "execution_count": 53,
      "outputs": [
        {
          "output_type": "stream",
          "text": [
            "função criada\n"
          ],
          "name": "stdout"
        }
      ]
    },
    {
      "cell_type": "code",
      "metadata": {
        "id": "88j2bd5OLp-5"
      },
      "source": [
        "def mensagem(texto):\n",
        "  print(texto)"
      ],
      "execution_count": 54,
      "outputs": []
    },
    {
      "cell_type": "code",
      "metadata": {
        "colab": {
          "base_uri": "https://localhost:8080/"
        },
        "id": "oqj8qdlEMAJI",
        "outputId": "f4144e33-a929-40d8-9d6d-8c5d3d31757d"
      },
      "source": [
        "mensagem('primeiro texto')\n",
        "mensagem('segundo texto')\n",
        "mensagem('terceiro texto')\n"
      ],
      "execution_count": 55,
      "outputs": [
        {
          "output_type": "stream",
          "text": [
            "primeiro texto\n",
            "segundo texto\n",
            "terceiro texto\n"
          ],
          "name": "stdout"
        }
      ]
    },
    {
      "cell_type": "code",
      "metadata": {
        "id": "TKxGJ6kSNIb_"
      },
      "source": [
        "def energiaCalGravitaciona(m, h, g=10):\n",
        "  '''aqui fica o comentário do help'''\n",
        "  \n",
        "  e = g * m * h\n",
        "  return e"
      ],
      "execution_count": 60,
      "outputs": []
    },
    {
      "cell_type": "code",
      "metadata": {
        "colab": {
          "base_uri": "https://localhost:8080/"
        },
        "id": "BfbkbH8FNidL",
        "outputId": "5fd08a88-31dd-410a-a606-28a7719a78b1"
      },
      "source": [
        "energiaCalGravitaciona(30, 12)"
      ],
      "execution_count": 57,
      "outputs": [
        {
          "output_type": "execute_result",
          "data": {
            "text/plain": [
              "3600"
            ]
          },
          "metadata": {
            "tags": []
          },
          "execution_count": 57
        }
      ]
    },
    {
      "cell_type": "code",
      "metadata": {
        "colab": {
          "base_uri": "https://localhost:8080/"
        },
        "id": "qA3nNPQMOE8U",
        "outputId": "1fae6a22-d1d3-4de5-91d6-4f18ded5ce64"
      },
      "source": [
        "help(energiaCalGravitaciona)"
      ],
      "execution_count": 61,
      "outputs": [
        {
          "output_type": "stream",
          "text": [
            "Help on function energiaCalGravitaciona in module __main__:\n",
            "\n",
            "energiaCalGravitaciona(m, h, g=10)\n",
            "    aqui fica o comentário do help\n",
            "\n"
          ],
          "name": "stdout"
        }
      ]
    },
    {
      "cell_type": "code",
      "metadata": {
        "id": "RpHcA4G-OysW"
      },
      "source": [
        "def primeiraFunc():\n",
        "  C = float(input('digite o Celsis: '))\n",
        "  return C"
      ],
      "execution_count": 139,
      "outputs": []
    },
    {
      "cell_type": "code",
      "metadata": {
        "colab": {
          "base_uri": "https://localhost:8080/"
        },
        "id": "0-OygyrCPFLu",
        "outputId": "725f6d0a-40d8-4136-df9f-8e051daafb8e"
      },
      "source": [
        "Cel = primeiraFunc()\n",
        "print(Cel)\n",
        "\n",
        "def segundaFunc(Cel):\n",
        "  F = (9 * Cel + 160) / 5\n",
        "  return F"
      ],
      "execution_count": 140,
      "outputs": [
        {
          "output_type": "stream",
          "text": [
            "digite o Celsis: 20\n",
            "20.0\n"
          ],
          "name": "stdout"
        }
      ]
    },
    {
      "cell_type": "code",
      "metadata": {
        "colab": {
          "base_uri": "https://localhost:8080/"
        },
        "id": "0ecn7P0nPemI",
        "outputId": "3f78bd64-c016-4ad7-a892-38e66b8d6599"
      },
      "source": [
        "Far = segundaFunc(Cel)\n",
        "print(Far)\n"
      ],
      "execution_count": 141,
      "outputs": [
        {
          "output_type": "stream",
          "text": [
            "68.0\n"
          ],
          "name": "stdout"
        }
      ]
    },
    {
      "cell_type": "code",
      "metadata": {
        "id": "EiSZivw8Po_2"
      },
      "source": [
        "def terceiraFunc(Cel, Far):\n",
        "  print(f'{Cel} Celsius são {Far} Far')"
      ],
      "execution_count": 142,
      "outputs": []
    },
    {
      "cell_type": "code",
      "metadata": {
        "colab": {
          "base_uri": "https://localhost:8080/"
        },
        "id": "zHRz0ICGPw5t",
        "outputId": "df1ea37b-e636-4496-f27d-423fc991efab"
      },
      "source": [
        "r = terceiraFunc(Cel, Far)\n",
        "print(r)"
      ],
      "execution_count": 143,
      "outputs": [
        {
          "output_type": "stream",
          "text": [
            "20.0 Celsius são 68.0 Far\n",
            "None\n"
          ],
          "name": "stdout"
        }
      ]
    },
    {
      "cell_type": "code",
      "metadata": {
        "id": "tGrbjjBAR_qI"
      },
      "source": [
        "def viagem():\n",
        "  '''12 Km por litro. Para obter o cálculo, o usuário deve fornecer o tempo gasto na viagem e a velocidade média durante ela. \n",
        "   DISTANCIA = TEMPO * VELOCIDADE.\n",
        "   LITROS_USADOS = DISTANCIA / 12. O programa deve apresentar os valores da velocidade média, tempo gasto na viagem, a distância percorrida e a quantidade de litros utilizada na viagem\n",
        "- Função para ler os valores (não recebe parâmetro e retorna os dois valores)\n",
        "- Função para calcular a distância (recebe como parâmetro o tempo e a velocidade e retorna a distância)\n",
        "- Função para calcular a quantidade de litros (recebe como parâmetro a distância e retorna os litros)\n",
        "- Função para apresentar o resultado (recebe como parâmetro os valores e somente imprime o resultado)'''\n",
        "  tempo = float(input('digite seu tempo: '))\n",
        "  velocidade = float(input('digite sua velocidade: '))\n",
        "\n",
        "  return tempo, velocidade\n"
      ],
      "execution_count": 104,
      "outputs": []
    },
    {
      "cell_type": "code",
      "metadata": {
        "id": "djtfI-LfTbkZ"
      },
      "source": [
        "def distace (tempo, velocidade):\n",
        "  D = tempo * velocidade\n",
        "  return D"
      ],
      "execution_count": 122,
      "outputs": []
    },
    {
      "cell_type": "code",
      "metadata": {
        "id": "AwMS8cQzUuAn"
      },
      "source": [
        "\n",
        "\n",
        "def litros(resultado_distancia):\n",
        "  LITROS_USADOS = resultado_distancia / 12\n",
        "  return LITROS_USADOS\n",
        "\n"
      ],
      "execution_count": 123,
      "outputs": []
    },
    {
      "cell_type": "code",
      "metadata": {
        "id": "s-Gc-q2DV1bH"
      },
      "source": [
        "def ultima(tempo, velocidade, resultado_distancia, li):\n",
        "  print(\"Seu tempo médio foi de: \", tempo)\n",
        "  print(\"Sua velocidade foi de: \", velocidade)\n",
        "  print(\"Distacia média: \", resultado_distancia)\n",
        "  print(\"Litros gastos \", round(li, 1))"
      ],
      "execution_count": 124,
      "outputs": []
    },
    {
      "cell_type": "code",
      "metadata": {
        "id": "sw_t04lnYiE5"
      },
      "source": [
        ""
      ],
      "execution_count": null,
      "outputs": []
    },
    {
      "cell_type": "code",
      "metadata": {
        "colab": {
          "base_uri": "https://localhost:8080/"
        },
        "id": "eW6DWgZSV1UC",
        "outputId": "cae52071-b8f2-4fd6-e7f7-0d9f870f7b30"
      },
      "source": [
        "t, v = viagem()\n",
        "\n",
        "d = distace(t, v)\n",
        "\n",
        "l = litros(d)\n",
        "\n",
        "ultima(t, v, d, l)"
      ],
      "execution_count": 146,
      "outputs": [
        {
          "output_type": "stream",
          "text": [
            "digite seu tempo: 5\n",
            "digite sua velocidade: 90\n",
            "Seu tempo médio foi de:  5.0\n",
            "Sua velocidade foi de:  90.0\n",
            "Distacia média:  450.0\n",
            "Litros gastos  37.5\n"
          ],
          "name": "stdout"
        }
      ]
    },
    {
      "cell_type": "code",
      "metadata": {
        "id": "bezDPC2ZdREV"
      },
      "source": [
        ""
      ],
      "execution_count": null,
      "outputs": []
    }
  ]
}